{
 "cells": [
  {
   "cell_type": "code",
   "execution_count": 1,
   "id": "5ff911c7",
   "metadata": {},
   "outputs": [],
   "source": [
    "import time\n",
    "starttime = time.time()\n",
    "import numpy as np\n",
    "import pandas as pd\n",
    "import matplotlib.pyplot as plt\n",
    "import seaborn as sns\n",
    "import plotly.express as px\n",
    "import plotly.graph_objects as go\n",
    "import datetime as dt\n",
    "import glob\n",
    "import os\n",
    "from PPM_library import *\n",
    "from user_defined import *\n",
    "import warnings\n",
    "warnings.filterwarnings('ignore')"
   ]
  },
  {
   "cell_type": "code",
   "execution_count": 2,
   "id": "f259a061",
   "metadata": {},
   "outputs": [],
   "source": [
    "hours, PC_warranty, Warranty_energy = warranty_PC()"
   ]
  },
  {
   "cell_type": "code",
   "execution_count": 3,
   "id": "80c6decd",
   "metadata": {},
   "outputs": [],
   "source": [
    "# md means mast data\n",
    "# td means turbine data\n",
    "append_calibrate_merge = 2 # Generally 0,1 and 2 are used in order, \n",
    "                           # use 2 directly if setting file is already created and new data is to be appended\n",
    "                           # Calibration is done using settings file\n",
    "                           # 0 indicate seperate files to append, \n",
    "                           # 1 indicate seperate files to append and calibrate, \n",
    "                           # 2 indicate seperate files to append, calibrate and merge\n",
    "                           # 3 indicate apply calibration on data and merge results (after 0)\n",
    "                           # 4 indicate merge the files from two sources like mast and turbine\n",
    "                           # 5 indicates no action, use merged files from old evaluation\n",
    "\n",
    "if append_calibrate_merge == 0:\n",
    "    setting_files = 0 # 0: create new file, 1: use existing file\n",
    "else:\n",
    "    setting_files = 1 # 0: create new file, 1: use existing file\n",
    "\n",
    "plots = 0 # 0: donot display plots, 1: display plots\n",
    "uncertainty_edition = 1 # 1 for ed.1.0 or 2 for ed.2.0\n",
    "insitu = 0"
   ]
  },
  {
   "cell_type": "code",
   "execution_count": 4,
   "id": "7e826b31",
   "metadata": {},
   "outputs": [],
   "source": [
    "data_prep(append_calibrate_merge, setting_files)"
   ]
  },
  {
   "cell_type": "code",
   "execution_count": 5,
   "id": "3b319878",
   "metadata": {},
   "outputs": [
    {
     "name": "stdout",
     "output_type": "stream",
     "text": [
      "Data length for the complete period is:  12096\n"
     ]
    }
   ],
   "source": [
    "derived_channels_new()"
   ]
  },
  {
   "cell_type": "code",
   "execution_count": 6,
   "id": "80827354",
   "metadata": {},
   "outputs": [
    {
     "name": "stdout",
     "output_type": "stream",
     "text": [
      "Plausable data length is:  5809\n",
      "Max TI is 55.77,\n",
      "Min TI is 0.97\n",
      "---------------------------\n",
      "Max Shear is 1.73,\n",
      "Min Shear is -1.88\n",
      "---------------------------\n",
      "Max Veer is 4.93,\n",
      "Min Veer is -4.95\n",
      "---------------------------\n",
      "Max Inflow is 30.22,\n",
      "Min Inflow is -30.18\n",
      "Data length for Filtered_Data is:  240\n",
      "Max Inflow is 30.22,\n",
      "Min Inflow is -30.18\n"
     ]
    },
    {
     "data": {
      "text/html": [
       "<div>\n",
       "<style scoped>\n",
       "    .dataframe tbody tr th:only-of-type {\n",
       "        vertical-align: middle;\n",
       "    }\n",
       "\n",
       "    .dataframe tbody tr th {\n",
       "        vertical-align: top;\n",
       "    }\n",
       "\n",
       "    .dataframe thead th {\n",
       "        text-align: right;\n",
       "    }\n",
       "</style>\n",
       "<table border=\"1\" class=\"dataframe\">\n",
       "  <thead>\n",
       "    <tr style=\"text-align: right;\">\n",
       "      <th></th>\n",
       "      <th>Name</th>\n",
       "      <th>Value</th>\n",
       "    </tr>\n",
       "  </thead>\n",
       "  <tbody>\n",
       "    <tr>\n",
       "      <th>0</th>\n",
       "      <td>Data length for excluding NAN - Mast+Turbine</td>\n",
       "      <td>11542.0</td>\n",
       "    </tr>\n",
       "    <tr>\n",
       "      <th>1</th>\n",
       "      <td>Data length for Test_Period</td>\n",
       "      <td>6162.0</td>\n",
       "    </tr>\n",
       "    <tr>\n",
       "      <th>2</th>\n",
       "      <td>Data length for valid Wind Direction</td>\n",
       "      <td>3261.0</td>\n",
       "    </tr>\n",
       "    <tr>\n",
       "      <th>3</th>\n",
       "      <td>Data length for valid Shear</td>\n",
       "      <td>5759.0</td>\n",
       "    </tr>\n",
       "    <tr>\n",
       "      <th>4</th>\n",
       "      <td>Data length for valid Veer</td>\n",
       "      <td>9213.0</td>\n",
       "    </tr>\n",
       "    <tr>\n",
       "      <th>5</th>\n",
       "      <td>Data length for valid TI</td>\n",
       "      <td>8279.0</td>\n",
       "    </tr>\n",
       "    <tr>\n",
       "      <th>6</th>\n",
       "      <td>Data length for valid Turbine Availability</td>\n",
       "      <td>10934.0</td>\n",
       "    </tr>\n",
       "    <tr>\n",
       "      <th>7</th>\n",
       "      <td>Data length for valid Turbine Grid connection</td>\n",
       "      <td>9780.0</td>\n",
       "    </tr>\n",
       "    <tr>\n",
       "      <th>8</th>\n",
       "      <td>Data length for valid Precepitation</td>\n",
       "      <td>11415.0</td>\n",
       "    </tr>\n",
       "    <tr>\n",
       "      <th>9</th>\n",
       "      <td>Data length for Filtered_Data</td>\n",
       "      <td>240.0</td>\n",
       "    </tr>\n",
       "  </tbody>\n",
       "</table>\n",
       "</div>"
      ],
      "text/plain": [
       "                                            Name    Value\n",
       "0   Data length for excluding NAN - Mast+Turbine  11542.0\n",
       "1                    Data length for Test_Period   6162.0\n",
       "2           Data length for valid Wind Direction   3261.0\n",
       "3                    Data length for valid Shear   5759.0\n",
       "4                     Data length for valid Veer   9213.0\n",
       "5                       Data length for valid TI   8279.0\n",
       "6     Data length for valid Turbine Availability  10934.0\n",
       "7  Data length for valid Turbine Grid connection   9780.0\n",
       "8            Data length for valid Precepitation  11415.0\n",
       "9                  Data length for Filtered_Data    240.0"
      ]
     },
     "execution_count": 6,
     "metadata": {},
     "output_type": "execute_result"
    }
   ],
   "source": [
    "filt_sum = apply_filters_new()\n",
    "filt_sum"
   ]
  },
  {
   "cell_type": "code",
   "execution_count": 7,
   "id": "1cfd4d2b",
   "metadata": {},
   "outputs": [
    {
     "data": {
      "text/html": [
       "<div>\n",
       "<style scoped>\n",
       "    .dataframe tbody tr th:only-of-type {\n",
       "        vertical-align: middle;\n",
       "    }\n",
       "\n",
       "    .dataframe tbody tr th {\n",
       "        vertical-align: top;\n",
       "    }\n",
       "\n",
       "    .dataframe thead th {\n",
       "        text-align: right;\n",
       "    }\n",
       "</style>\n",
       "<table border=\"1\" class=\"dataframe\">\n",
       "  <thead>\n",
       "    <tr style=\"text-align: right;\">\n",
       "      <th></th>\n",
       "      <th>Name</th>\n",
       "      <th>Minimum</th>\n",
       "      <th>Average</th>\n",
       "      <th>Maximum</th>\n",
       "      <th>StdDev</th>\n",
       "    </tr>\n",
       "  </thead>\n",
       "  <tbody>\n",
       "    <tr>\n",
       "      <th>0</th>\n",
       "      <td>WindSpeed</td>\n",
       "      <td>3.103800</td>\n",
       "      <td>7.796301</td>\n",
       "      <td>11.583500</td>\n",
       "      <td>1.816711</td>\n",
       "    </tr>\n",
       "    <tr>\n",
       "      <th>1</th>\n",
       "      <td>Shear</td>\n",
       "      <td>0.020681</td>\n",
       "      <td>0.148629</td>\n",
       "      <td>0.299986</td>\n",
       "      <td>0.073808</td>\n",
       "    </tr>\n",
       "    <tr>\n",
       "      <th>2</th>\n",
       "      <td>TI</td>\n",
       "      <td>5.380978</td>\n",
       "      <td>11.138614</td>\n",
       "      <td>22.456297</td>\n",
       "      <td>3.124194</td>\n",
       "    </tr>\n",
       "    <tr>\n",
       "      <th>3</th>\n",
       "      <td>Baro</td>\n",
       "      <td>975.453300</td>\n",
       "      <td>978.812754</td>\n",
       "      <td>982.895000</td>\n",
       "      <td>1.523636</td>\n",
       "    </tr>\n",
       "    <tr>\n",
       "      <th>4</th>\n",
       "      <td>Baro_corr</td>\n",
       "      <td>974.715224</td>\n",
       "      <td>978.079663</td>\n",
       "      <td>982.154971</td>\n",
       "      <td>1.520979</td>\n",
       "    </tr>\n",
       "    <tr>\n",
       "      <th>5</th>\n",
       "      <td>Humidity</td>\n",
       "      <td>57.870000</td>\n",
       "      <td>78.322333</td>\n",
       "      <td>95.450000</td>\n",
       "      <td>11.139772</td>\n",
       "    </tr>\n",
       "  </tbody>\n",
       "</table>\n",
       "</div>"
      ],
      "text/plain": [
       "        Name     Minimum     Average     Maximum     StdDev\n",
       "0  WindSpeed    3.103800    7.796301   11.583500   1.816711\n",
       "1      Shear    0.020681    0.148629    0.299986   0.073808\n",
       "2         TI    5.380978   11.138614   22.456297   3.124194\n",
       "3       Baro  975.453300  978.812754  982.895000   1.523636\n",
       "4  Baro_corr  974.715224  978.079663  982.154971   1.520979\n",
       "5   Humidity   57.870000   78.322333   95.450000  11.139772"
      ]
     },
     "execution_count": 7,
     "metadata": {},
     "output_type": "execute_result"
    }
   ],
   "source": [
    "stats = data_stats()  # for filtered data\n",
    "stats"
   ]
  },
  {
   "cell_type": "code",
   "execution_count": 8,
   "id": "7110805d",
   "metadata": {},
   "outputs": [],
   "source": [
    "data_binning_new(hours)"
   ]
  },
  {
   "cell_type": "code",
   "execution_count": 9,
   "id": "e444f2ab",
   "metadata": {},
   "outputs": [],
   "source": [
    "uncertainty_calculations(uncertainty_edition, AD='refAD')\n",
    "uncertainty_calculations(uncertainty_edition, AD='stdAD')\n",
    "#uncertainty_calculations(uncertainty_edition=1, AD='siteAD')"
   ]
  },
  {
   "cell_type": "code",
   "execution_count": 10,
   "id": "2aefbabe",
   "metadata": {},
   "outputs": [
    {
     "name": "stdout",
     "output_type": "stream",
     "text": [
      "\u001b[1m AEP Ratio (Measured/Warranty)% = \u001b[0m 98.7338\n",
      "\u001b[1m AEP Ratio (Measured(extrapoloated)/Warranty)% = \u001b[0m 99.2905\n"
     ]
    }
   ],
   "source": [
    "warranty_evaluation(hours, PC_warranty)"
   ]
  },
  {
   "cell_type": "code",
   "execution_count": 11,
   "id": "0c2fe12a",
   "metadata": {},
   "outputs": [
    {
     "name": "stdout",
     "output_type": "stream",
     "text": [
      "\u001b[1m Measurement Period \u001b[0m 2023-08-19 00:00:00, to 2023-09-30 18:50:00\n",
      "\u001b[1m Number of measurement sectors \u001b[0m 1\n",
      "\u001b[1m Sector_0: \u001b[0m 218.1 to 239.7\n",
      "\u001b[1m Additonal filters: \u001b[0m\n",
      "\u001b[1m Turbulence Intensity NTM: \u001b[0m 4 to 16\n",
      "\u001b[1m Shear: \u001b[0m 0 to 0.3\n",
      "\u001b[1m Veer: \u001b[0m -0.15 to 0.15\n",
      "\u001b[1m Ambient temperature: \u001b[0m 0 to 50\n",
      "\u001b[1m Inflow: \u001b[0m -2 to 2\n",
      "\u001b[1m Availability 100% (minimum==1) \u001b[0m\n",
      "\u001b[1m Grid connection 100% (minimum==1) \u001b[0m\n",
      "\u001b[1m Precipitation 0% (maximum==0) \u001b[0m\n",
      "\u001b[1m Turbine datalogger data count for 10 minutes == 600 \u001b[0m\n",
      "\u001b[1m Metmast datalogger data count for 10 minutes == 600 \u001b[0m\n",
      "\u001b[1m Data length for the complete period is: \u001b[0m 12096\n",
      "\u001b[1m Filtered data length is: \u001b[0m 240\n",
      "\u001b[1m AEP Ratio (Measured/Warranty)% = \u001b[0m 98.734\n",
      "\u001b[1m AEP Ratio (Measured(extrapoloated)/Warranty)% = \u001b[0m 99.2905\n"
     ]
    }
   ],
   "source": [
    "test_summary_new()"
   ]
  },
  {
   "cell_type": "code",
   "execution_count": 12,
   "id": "2d8367bb",
   "metadata": {},
   "outputs": [],
   "source": [
    "if plots==1:\n",
    "    plot_meteo(),\n",
    "    plot_pitch()\n",
    "    plot_powercurve_refAD() #plot_powercurve_refAD(path, grouped_refAD, combined_data_filt_mod)"
   ]
  },
  {
   "cell_type": "code",
   "execution_count": 13,
   "id": "52dbdfbe",
   "metadata": {},
   "outputs": [],
   "source": [
    "if insitu==1:\n",
    "    insitu_check(insitu_wd, insitu_wd_span)"
   ]
  },
  {
   "cell_type": "code",
   "execution_count": 14,
   "id": "6fb46456",
   "metadata": {},
   "outputs": [
    {
     "data": {
      "text/plain": [
       "'Code Run Time: 507.5 seconds'"
      ]
     },
     "execution_count": 14,
     "metadata": {},
     "output_type": "execute_result"
    }
   ],
   "source": [
    "endtime = time.time()\n",
    "f\"Code Run Time: {np.round(endtime-starttime,1)} seconds\""
   ]
  },
  {
   "cell_type": "code",
   "execution_count": null,
   "id": "c411fd5e",
   "metadata": {},
   "outputs": [],
   "source": [
    "# filepath = r'D:\\Projects\\CleanMax-Babra\\PPM\\Data\\CleanMax_Babra_20231220_171609\\derived_filter.xlsx'\n",
    "# df = pd.read_excel(filepath)\n",
    "# df['Shear']\n",
    "# df.set_index(['datetime'], inplace=True)\n",
    "# df['Time'] = df.index.time\n",
    "# df = df.groupby('Time').agg({'Shear':['mean']})\n",
    "# df.plot(df.index, df.iloc[:,0].values)\n",
    "# a = df.iloc[:,0].values\n",
    "# a\n",
    "# b = df.index\n",
    "# b\n",
    "# df.plot(b.all(), a)\n",
    "# b = [\"00:00\", \"00:10\", \"00:20\", \"00:30\", \"00:40\", \"00:50\",\n",
    "#      \"01:00\", \"01:10\", \"01:20\", \"01:30\", \"01:40\", \"01:50\",\n",
    "#      \"02:00\", \"02:10\", \"02:20\", \"02:30\", \"02:40\", \"02:50\",\n",
    "#      \"03:00\", \"03:10\", \"03:20\", \"03:30\", \"03:40\", \"03:50\",\n",
    "#      \"04:00\", \"04:10\", \"04:20\", \"04:30\", \"04:40\", \"04:50\",\n",
    "#      \"05:00\", \"05:10\", \"05:20\", \"05:30\", \"05:40\", \"05:50\",\n",
    "#      \"06:00\", \"06:10\", \"06:20\", \"06:30\", \"06:40\", \"06:50\",\n",
    "#      \"07:00\", \"07:10\", \"07:20\", \"07:30\", \"07:40\", \"07:50\",\n",
    "#      \"08:00\", \"08:10\", \"08:20\", \"08:30\", \"08:40\", \"08:50\",\n",
    "#      \"09:00\", \"09:10\", \"09:20\", \"09:30\", \"09:40\", \"09:50\",\n",
    "#      \"10:00\", \"10:10\", \"10:20\", \"10:30\", \"10:40\", \"10:50\",\n",
    "#      \"11:00\", \"11:10\", \"11:20\", \"11:30\", \"11:40\", \"11:50\",\n",
    "#      \"12:00\", \"12:10\", \"12:20\", \"12:30\", \"12:40\", \"12:50\",\n",
    "#      \"13:00\", \"13:10\", \"13:20\", \"13:30\", \"13:40\", \"13:50\",\n",
    "#      \"14:00\", \"14:10\", \"14:20\", \"14:30\", \"14:40\", \"14:50\",\n",
    "#      \"15:00\", \"15:10\", \"15:20\", \"15:30\", \"15:40\", \"15:50\",\n",
    "#      \"16:00\", \"16:10\", \"16:20\", \"16:30\", \"16:40\", \"16:50\",\n",
    "#      \"17:00\", \"17:10\", \"17:20\", \"17:30\", \"17:40\", \"17:50\",\n",
    "#      \"18:00\", \"18:10\", \"18:20\", \"18:30\", \"18:40\", \"18:50\",\n",
    "#      \"19:00\", \"19:10\", \"19:20\", \"19:30\", \"19:40\", \"19:50\",\n",
    "#      \"20:00\", \"20:10\", \"20:20\", \"20:30\", \"20:40\", \"20:50\",\n",
    "#      \"21:00\", \"21:10\", \"21:20\", \"21:30\", \"21:40\", \"21:50\",\n",
    "#      \"22:00\", \"22:10\", \"22:20\", \"22:30\", \"22:40\", \"22:50\",\n",
    "#      \"23:00\", \"23:10\", \"23:20\", \"23:30\", \"23:40\", \"23:50\",]\n",
    "# pd.plot.bar(x=b, y=a)\n",
    "# len(a)\n",
    "# len(b)\n",
    "# dat = pd.DataFrame(data={'Time': b, 'Shear': a})\n",
    "# dat\n",
    "# dat.plot('Time', 'Shear')"
   ]
  },
  {
   "cell_type": "code",
   "execution_count": null,
   "id": "ec2dba6f",
   "metadata": {},
   "outputs": [],
   "source": []
  },
  {
   "cell_type": "code",
   "execution_count": null,
   "id": "ad1ce20b",
   "metadata": {},
   "outputs": [],
   "source": []
  },
  {
   "cell_type": "code",
   "execution_count": null,
   "id": "2c1bd688",
   "metadata": {},
   "outputs": [],
   "source": []
  },
  {
   "cell_type": "code",
   "execution_count": null,
   "id": "abc14a7f",
   "metadata": {},
   "outputs": [],
   "source": []
  },
  {
   "cell_type": "code",
   "execution_count": null,
   "id": "b605580b",
   "metadata": {},
   "outputs": [],
   "source": []
  },
  {
   "cell_type": "code",
   "execution_count": null,
   "id": "c2a6b980",
   "metadata": {},
   "outputs": [],
   "source": []
  },
  {
   "cell_type": "code",
   "execution_count": null,
   "id": "e0c23897",
   "metadata": {},
   "outputs": [],
   "source": []
  },
  {
   "cell_type": "code",
   "execution_count": null,
   "id": "593bc82b",
   "metadata": {},
   "outputs": [],
   "source": []
  },
  {
   "cell_type": "code",
   "execution_count": null,
   "id": "ce2bc716",
   "metadata": {},
   "outputs": [],
   "source": []
  },
  {
   "cell_type": "code",
   "execution_count": null,
   "id": "00b86fe6",
   "metadata": {},
   "outputs": [],
   "source": []
  },
  {
   "cell_type": "code",
   "execution_count": null,
   "id": "da98d1cd",
   "metadata": {},
   "outputs": [],
   "source": []
  },
  {
   "cell_type": "code",
   "execution_count": null,
   "id": "675fec1c",
   "metadata": {},
   "outputs": [],
   "source": []
  },
  {
   "cell_type": "code",
   "execution_count": null,
   "id": "e36d8451",
   "metadata": {},
   "outputs": [],
   "source": []
  },
  {
   "cell_type": "code",
   "execution_count": null,
   "id": "591deef5",
   "metadata": {},
   "outputs": [],
   "source": []
  },
  {
   "cell_type": "code",
   "execution_count": null,
   "id": "2e484d59",
   "metadata": {},
   "outputs": [],
   "source": []
  }
 ],
 "metadata": {
  "kernelspec": {
   "display_name": "Python 3 (ipykernel)",
   "language": "python",
   "name": "python3"
  },
  "language_info": {
   "codemirror_mode": {
    "name": "ipython",
    "version": 3
   },
   "file_extension": ".py",
   "mimetype": "text/x-python",
   "name": "python",
   "nbconvert_exporter": "python",
   "pygments_lexer": "ipython3",
   "version": "3.10.9"
  }
 },
 "nbformat": 4,
 "nbformat_minor": 5
}
